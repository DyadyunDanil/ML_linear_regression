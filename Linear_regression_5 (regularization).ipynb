{
 "cells": [
  {
   "cell_type": "code",
   "execution_count": 1,
   "id": "4180876d-abfe-490f-b455-cf76e7f26e6a",
   "metadata": {},
   "outputs": [],
   "source": [
    "import numpy as np\n",
    "import pandas as pd\n",
    "import matplotlib.pyplot as plt\n",
    "import seaborn as sns"
   ]
  },
  {
   "cell_type": "code",
   "execution_count": 3,
   "id": "b81b7e50-f382-435d-82a1-f6ca992d496b",
   "metadata": {},
   "outputs": [],
   "source": [
    "df = pd.read_csv('/Users/dyadyundanil/Desktop/Machine learning/DATA/Advertising.csv')"
   ]
  },
  {
   "cell_type": "code",
   "execution_count": 5,
   "id": "95059b0d-3694-4805-b207-852f78464556",
   "metadata": {},
   "outputs": [],
   "source": [
    "from sklearn.model_selection import train_test_split\n",
    "from sklearn.preprocessing import StandardScaler, PolynomialFeatures\n",
    "\n",
    "#Features selection\n",
    "X = df.drop('sales', axis=1)\n",
    "y = df['sales']\n",
    "\n",
    "#Maling new features (new degree)\n",
    "X_poly = PolynomialFeatures(degree=3, include_bias=False).fit_transform(X)\n",
    "X_train, X_test, y_train, y_test = train_test_split(X_poly, y, test_size=0.3, random_state=42)\n",
    "\n",
    "#Data Standartization\n",
    "scaler = StandardScaler()\n",
    "scaler.fit(X_train)\n",
    "X_train_scaled = scaler.transform(X_train)\n",
    "X_test_scaled = scaler.transform(X_test)"
   ]
  },
  {
   "cell_type": "code",
   "execution_count": 7,
   "id": "d18cba4e-68ab-4d9d-86af-57697b654573",
   "metadata": {},
   "outputs": [
    {
     "name": "stdout",
     "output_type": "stream",
     "text": [
      "0.6296591346758604 0.8916327541710886\n"
     ]
    }
   ],
   "source": [
    "#RIDGE REGRESSION without cross-validation\n",
    "from sklearn.linear_model import Ridge\n",
    "from sklearn.metrics import mean_absolute_error, root_mean_squared_error, mean_squared_error\n",
    "\n",
    "#Ridge regression with lambda = 10\n",
    "ridge_model = Ridge(alpha=10)\n",
    "ridge_model.fit(X_train_scaled, y_train)\n",
    "y_pred = ridge_model.predict(X_test_scaled)\n",
    "\n",
    "#Metrics\n",
    "MAE = mean_absolute_error(y_test, y_pred)\n",
    "RMSE = root_mean_squared_error(y_test, y_pred)\n",
    "\n",
    "print(MAE, RMSE)"
   ]
  },
  {
   "cell_type": "code",
   "execution_count": 37,
   "id": "6aad8f8f-b470-4964-8b4a-6debb895c11f",
   "metadata": {},
   "outputs": [
    {
     "name": "stdout",
     "output_type": "stream",
     "text": [
      "the best lambda:  0.1\n",
      "coefs of best model:  [ 5.90523815  0.46316396  0.68028713 -6.17743395  3.73671928 -1.40708382\n",
      "  0.00624704  0.11128917 -0.2617823   2.17135744 -0.51480159  0.70587211\n",
      "  0.60311504 -0.53271216  0.5716495  -0.34685826  0.36744388 -0.03938079\n",
      " -0.12192939]\n",
      "MAE and RMSE:  0.46671241131181157 0.5945136671805323\n"
     ]
    }
   ],
   "source": [
    "from sklearn.linear_model import RidgeCV\n",
    "\n",
    "#Ridge with searching for the best lambda using cross-validation\n",
    "ridge_cv_model = RidgeCV(alphas=(0.1, 1.0, 5.0, 10.0), scoring='neg_mean_absolute_error')\n",
    "ridge_cv_model.fit(X_train_scaled, y_train)\n",
    "print('the best lambda: ', ridge_cv_model.alpha_)\n",
    "print('coefs of best model: ',ridge_cv_model.coef_)\n",
    "\n",
    "#MAE, RMSE on hold-out set\n",
    "y_pred = ridge_cv_model.predict(X_test_scaled)\n",
    "MAE = mean_absolute_error(y_test, y_pred)\n",
    "RMSE = root_mean_squared_error(y_test, y_pred)\n",
    "print('MAE and RMSE: ', MAE, RMSE)"
   ]
  },
  {
   "cell_type": "code",
   "execution_count": 81,
   "id": "0fad5cd9-26b7-4c43-bb59-bff9db63307c",
   "metadata": {},
   "outputs": [
    {
     "name": "stdout",
     "output_type": "stream",
     "text": [
      "the best lambda 0.004924531806474871\n",
      "coefs of best model:  [ 5.15048089  0.4274257   0.29684446 -4.53337994  3.38937185 -0.4288993\n",
      "  0.          0.          0.          1.17891049 -0.          0.\n",
      "  0.16706037 -0.          0.          0.          0.11083672  0.\n",
      "  0.06155549]\n",
      "MAE and RMSE:  0.5123045552899799 0.6308043049172861\n"
     ]
    }
   ],
   "source": [
    "#LASSO REGRESSION - least absolute shrinkage and selection operator\n",
    "from sklearn.linear_model import LassoCV\n",
    "\n",
    "#LASSO with searching for the best lambda using cross-validation\n",
    "lasso_cv_model = LassoCV(eps=0.001, n_alphas=1000, max_iter=10000)\n",
    "lasso_cv_model.fit(X_train_scaled, y_train)\n",
    "print('the best lambda', lasso_cv_model.alpha_)\n",
    "print('coefs of best model: ',lasso_cv_model.coef_)\n",
    "\n",
    "#MAE, RMSE on hold-out set\n",
    "y_pred = lasso_cv_model.predict(X_test_scaled)\n",
    "MAE = mean_absolute_error(y_test, y_pred)\n",
    "RMSE = root_mean_squared_error(y_test, y_pred)\n",
    "print('MAE and RMSE: ', MAE, RMSE)\n",
    "\n",
    "\n"
   ]
  },
  {
   "cell_type": "code",
   "execution_count": 79,
   "id": "e8bcc151-87f5-4745-a4d1-1d066ba4db56",
   "metadata": {},
   "outputs": [
    {
     "name": "stdout",
     "output_type": "stream",
     "text": [
      "the best lambda 1.0 0.004924531806474871\n",
      "coefs of best model:  [ 5.15048089  0.4274257   0.29684446 -4.53337994  3.38937185 -0.4288993\n",
      "  0.          0.          0.          1.17891049 -0.          0.\n",
      "  0.16706037 -0.          0.          0.          0.11083672  0.\n",
      "  0.06155549]\n",
      "MAE and RMSE:  0.5123045552899799 0.6308043049172861\n"
     ]
    }
   ],
   "source": [
    "#Elastic net = Ridge + Lasso\n",
    "from sklearn.linear_model import ElasticNetCV\n",
    "\n",
    "#So, we search for the best parameters l1_ratio (alpha) and lambda\n",
    "elasticnet_cv_model = ElasticNetCV(l1_ratio=[.1, .5, .7, .9, .95, .99, 1], eps=0.001, n_alphas=1000, max_iter=10000)\n",
    "elasticnet_cv_model.fit(X_train_scaled, y_train)\n",
    "print('the best lambda', elasticnet_cv_model.l1_ratio_, elasticnet_cv_model.alpha_)\n",
    "print('coefs of best model: ',elasticnet_cv_model.coef_)\n",
    "\n",
    "#MAE, RMSE on hold-out set\n",
    "y_pred = elasticnet_cv_model.predict(X_test_scaled)\n",
    "MAE = mean_absolute_error(y_test, y_pred)\n",
    "RMSE = root_mean_squared_error(y_test, y_pred)\n",
    "print('MAE and RMSE: ', MAE, RMSE)"
   ]
  },
  {
   "cell_type": "code",
   "execution_count": null,
   "id": "fcac5cdc-c27f-45b1-b065-88d5eb9e4511",
   "metadata": {},
   "outputs": [],
   "source": []
  }
 ],
 "metadata": {
  "kernelspec": {
   "display_name": "Python [conda env:base] *",
   "language": "python",
   "name": "conda-base-py"
  },
  "language_info": {
   "codemirror_mode": {
    "name": "ipython",
    "version": 3
   },
   "file_extension": ".py",
   "mimetype": "text/x-python",
   "name": "python",
   "nbconvert_exporter": "python",
   "pygments_lexer": "ipython3",
   "version": "3.12.2"
  }
 },
 "nbformat": 4,
 "nbformat_minor": 5
}

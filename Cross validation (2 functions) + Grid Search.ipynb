{
 "cells": [
  {
   "cell_type": "code",
   "execution_count": 1,
   "id": "d4a21432-5e6a-4c36-b49e-45042c169682",
   "metadata": {},
   "outputs": [],
   "source": [
    "import numpy as np\n",
    "import pandas as pd\n",
    "import matplotlib.pyplot as plt\n",
    "import seaborn as sns\n",
    "sns.set()"
   ]
  },
  {
   "cell_type": "code",
   "execution_count": 3,
   "id": "24dcb04e-5cbc-4c3c-8e4c-94560ead4522",
   "metadata": {},
   "outputs": [],
   "source": [
    "df = pd.read_csv('/Users/dyadyundanil/Desktop/Machine learning/DATA/Advertising.csv')"
   ]
  },
  {
   "cell_type": "code",
   "execution_count": 5,
   "id": "432e7ec8-0865-47ee-9894-f74a6b604b05",
   "metadata": {},
   "outputs": [
    {
     "data": {
      "text/html": [
       "<div>\n",
       "<style scoped>\n",
       "    .dataframe tbody tr th:only-of-type {\n",
       "        vertical-align: middle;\n",
       "    }\n",
       "\n",
       "    .dataframe tbody tr th {\n",
       "        vertical-align: top;\n",
       "    }\n",
       "\n",
       "    .dataframe thead th {\n",
       "        text-align: right;\n",
       "    }\n",
       "</style>\n",
       "<table border=\"1\" class=\"dataframe\">\n",
       "  <thead>\n",
       "    <tr style=\"text-align: right;\">\n",
       "      <th></th>\n",
       "      <th>TV</th>\n",
       "      <th>radio</th>\n",
       "      <th>newspaper</th>\n",
       "      <th>sales</th>\n",
       "    </tr>\n",
       "  </thead>\n",
       "  <tbody>\n",
       "    <tr>\n",
       "      <th>0</th>\n",
       "      <td>230.1</td>\n",
       "      <td>37.8</td>\n",
       "      <td>69.2</td>\n",
       "      <td>22.1</td>\n",
       "    </tr>\n",
       "    <tr>\n",
       "      <th>1</th>\n",
       "      <td>44.5</td>\n",
       "      <td>39.3</td>\n",
       "      <td>45.1</td>\n",
       "      <td>10.4</td>\n",
       "    </tr>\n",
       "    <tr>\n",
       "      <th>2</th>\n",
       "      <td>17.2</td>\n",
       "      <td>45.9</td>\n",
       "      <td>69.3</td>\n",
       "      <td>9.3</td>\n",
       "    </tr>\n",
       "    <tr>\n",
       "      <th>3</th>\n",
       "      <td>151.5</td>\n",
       "      <td>41.3</td>\n",
       "      <td>58.5</td>\n",
       "      <td>18.5</td>\n",
       "    </tr>\n",
       "    <tr>\n",
       "      <th>4</th>\n",
       "      <td>180.8</td>\n",
       "      <td>10.8</td>\n",
       "      <td>58.4</td>\n",
       "      <td>12.9</td>\n",
       "    </tr>\n",
       "  </tbody>\n",
       "</table>\n",
       "</div>"
      ],
      "text/plain": [
       "      TV  radio  newspaper  sales\n",
       "0  230.1   37.8       69.2   22.1\n",
       "1   44.5   39.3       45.1   10.4\n",
       "2   17.2   45.9       69.3    9.3\n",
       "3  151.5   41.3       58.5   18.5\n",
       "4  180.8   10.8       58.4   12.9"
      ]
     },
     "execution_count": 5,
     "metadata": {},
     "output_type": "execute_result"
    }
   ],
   "source": [
    "df.head()"
   ]
  },
  {
   "cell_type": "code",
   "execution_count": 7,
   "id": "8189d91b-cfe5-4ac2-bb5b-5b6ee20e1502",
   "metadata": {},
   "outputs": [
    {
     "name": "stdout",
     "output_type": "stream",
     "text": [
      "Results for each k train-test fit: [-2.10945128 -1.48269544 -1.36608846 -1.64092812 -1.98539629]\n",
      "Results for each k train-test fit: [-2.10463498 -1.48590122 -1.36843344 -1.64766931 -1.98144225]\n",
      "Results for each k train-test fit: [-2.07884806 -1.54702059 -1.42252488 -1.73400892 -1.96535827]\n",
      "Results for each k train-test fit: [-2.08768688 -1.65432653 -1.52638634 -1.85551867 -1.98513535]\n",
      "Results for each k train-test fit: [-2.59490468 -2.58533906 -2.49961657 -2.82668978 -2.50762916]\n",
      "the best alpha: 0.1\n"
     ]
    }
   ],
   "source": [
    "#cross_val_score\n",
    "from sklearn.linear_model import Ridge\n",
    "from sklearn.preprocessing import StandardScaler\n",
    "from sklearn.model_selection import train_test_split, cross_val_score\n",
    "from sklearn.metrics import root_mean_squared_error\n",
    "\n",
    "X = df.drop('sales', axis=1)\n",
    "y = df['sales']\n",
    "X_train, X_test, y_train, y_test = train_test_split(X, y, test_size=0.1, random_state=42)\n",
    "\n",
    "scaler = StandardScaler().fit(X_train)\n",
    "X_train_scaled = scaler.transform(X_train)\n",
    "X_test_scaled = scaler.transform(X_test)\n",
    "\n",
    "best_alpha = -1\n",
    "best_metrics = float('inf')\n",
    "alphas = [0.1, 1, 10, 20, 100]\n",
    "for alpha in alphas:\n",
    "    model = Ridge(alpha=alpha)\n",
    "    results = cross_val_score(model, X_train_scaled, y_train, scoring='neg_root_mean_squared_error', cv=5)\n",
    "    print('Results for each k train-test fit:', results)\n",
    "    if abs(results.mean()) < best_metrics:\n",
    "        best_metrics = abs(results.mean())\n",
    "        best_alpha = alpha\n",
    "        \n",
    "print('the best alpha:', best_alpha)"
   ]
  },
  {
   "cell_type": "code",
   "execution_count": 9,
   "id": "8bbde359-fbfe-4299-9148-43d7773a05a4",
   "metadata": {},
   "outputs": [
    {
     "data": {
      "text/html": [
       "<div>\n",
       "<style scoped>\n",
       "    .dataframe tbody tr th:only-of-type {\n",
       "        vertical-align: middle;\n",
       "    }\n",
       "\n",
       "    .dataframe tbody tr th {\n",
       "        vertical-align: top;\n",
       "    }\n",
       "\n",
       "    .dataframe thead th {\n",
       "        text-align: right;\n",
       "    }\n",
       "</style>\n",
       "<table border=\"1\" class=\"dataframe\">\n",
       "  <thead>\n",
       "    <tr style=\"text-align: right;\">\n",
       "      <th></th>\n",
       "      <th>fit_time</th>\n",
       "      <th>score_time</th>\n",
       "      <th>test_neg_root_mean_squared_error</th>\n",
       "      <th>test_neg_mean_squared_error</th>\n",
       "    </tr>\n",
       "  </thead>\n",
       "  <tbody>\n",
       "    <tr>\n",
       "      <th>0</th>\n",
       "      <td>0.001971</td>\n",
       "      <td>0.001982</td>\n",
       "      <td>-2.109451</td>\n",
       "      <td>-4.449785</td>\n",
       "    </tr>\n",
       "    <tr>\n",
       "      <th>1</th>\n",
       "      <td>0.001458</td>\n",
       "      <td>0.001218</td>\n",
       "      <td>-1.482695</td>\n",
       "      <td>-2.198386</td>\n",
       "    </tr>\n",
       "    <tr>\n",
       "      <th>2</th>\n",
       "      <td>0.000846</td>\n",
       "      <td>0.000557</td>\n",
       "      <td>-1.366088</td>\n",
       "      <td>-1.866198</td>\n",
       "    </tr>\n",
       "    <tr>\n",
       "      <th>3</th>\n",
       "      <td>0.000585</td>\n",
       "      <td>0.000480</td>\n",
       "      <td>-1.640928</td>\n",
       "      <td>-2.692645</td>\n",
       "    </tr>\n",
       "    <tr>\n",
       "      <th>4</th>\n",
       "      <td>0.000631</td>\n",
       "      <td>0.000493</td>\n",
       "      <td>-1.985396</td>\n",
       "      <td>-3.941798</td>\n",
       "    </tr>\n",
       "  </tbody>\n",
       "</table>\n",
       "</div>"
      ],
      "text/plain": [
       "   fit_time  score_time  test_neg_root_mean_squared_error  \\\n",
       "0  0.001971    0.001982                         -2.109451   \n",
       "1  0.001458    0.001218                         -1.482695   \n",
       "2  0.000846    0.000557                         -1.366088   \n",
       "3  0.000585    0.000480                         -1.640928   \n",
       "4  0.000631    0.000493                         -1.985396   \n",
       "\n",
       "   test_neg_mean_squared_error  \n",
       "0                    -4.449785  \n",
       "1                    -2.198386  \n",
       "2                    -1.866198  \n",
       "3                    -2.692645  \n",
       "4                    -3.941798  "
      ]
     },
     "execution_count": 9,
     "metadata": {},
     "output_type": "execute_result"
    }
   ],
   "source": [
    "#cross_validate\n",
    "from sklearn.linear_model import Ridge\n",
    "from sklearn.preprocessing import StandardScaler\n",
    "from sklearn.model_selection import train_test_split, cross_validate\n",
    "from sklearn.metrics import root_mean_squared_error\n",
    "\n",
    "X = df.drop('sales', axis=1)\n",
    "y = df['sales']\n",
    "X_train, X_test, y_train, y_test = train_test_split(X, y, test_size=0.1, random_state=42)\n",
    "\n",
    "scaler = StandardScaler().fit(X_train)\n",
    "X_train_scaled = scaler.transform(X_train)\n",
    "X_test_scaled = scaler.transform(X_test)\n",
    "\n",
    "\n",
    "model = Ridge(alpha=0.1)\n",
    "scoring = ['neg_root_mean_squared_error', 'neg_mean_squared_error']\n",
    "results = cross_validate(model, X_train_scaled, y_train, scoring=scoring, cv=5)\n",
    "pd.DataFrame(results)\n"
   ]
  },
  {
   "cell_type": "code",
   "execution_count": 11,
   "id": "dcce0876-0257-41da-a053-ea1e9805d3c3",
   "metadata": {},
   "outputs": [],
   "source": [
    "#Чтобы не писать собственно ручно циклы для отыскания наилучших гиперпараметров модели применяется ф-ция GridSearchCV\n",
    "#На каждой итерации (определенном наборе гиперпараметров) оценивается средняя ошибка с помощью кросс-валидации\n",
    "#И в конце происходит сравнение всех этих ошибок и выбор наименьшей -> наилучшие гиперпараметры"
   ]
  },
  {
   "cell_type": "code",
   "execution_count": 25,
   "id": "a4b19aeb-0c6c-4821-b3bf-78790467fcf7",
   "metadata": {},
   "outputs": [
    {
     "name": "stdout",
     "output_type": "stream",
     "text": [
      "best parameters: {'alpha': 0.1, 'l1_ratio': 0.9}\n",
      "best estimator: ElasticNet(alpha=0.1, l1_ratio=0.9)\n",
      "best score: -1.7183844606988488\n"
     ]
    }
   ],
   "source": [
    "from sklearn.linear_model import ElasticNet\n",
    "from sklearn.model_selection import GridSearchCV\n",
    "from sklearn.preprocessing import StandardScaler\n",
    "from sklearn.model_selection import train_test_split\n",
    "\n",
    "X = df.drop('sales', axis=1)\n",
    "y = df['sales']\n",
    "X_train, X_test, y_train, y_test = train_test_split(X, y, test_size=0.1, random_state=42)\n",
    "\n",
    "scaler = StandardScaler().fit(X_train)\n",
    "X_train_scaled = scaler.transform(X_train)\n",
    "X_test_scaled = scaler.transform(X_test)\n",
    "\n",
    "model = ElasticNet()\n",
    "param_grid = {'alpha':[0.1, 0.5, 1, 10], 'l1_ratio':[0.1, 0.2, 0.3, 0.9]}\n",
    "grid_search = GridSearchCV(\n",
    "    estimator=model,\n",
    "    param_grid=param_grid,\n",
    "    cv=5,\n",
    "    scoring='neg_root_mean_squared_error',\n",
    "    verbose=0\n",
    ")\n",
    "\n",
    "grid_search.fit(X_train_scaled, y_train)\n",
    "\n",
    "print('best parameters:', grid_search.best_params_)\n",
    "print('best estimator:', grid_search.best_estimator_)\n",
    "print('best score:', grid_search.best_score_)"
   ]
  },
  {
   "cell_type": "code",
   "execution_count": null,
   "id": "63d058c0-b05b-4d92-9957-0e2bbdf9f52a",
   "metadata": {},
   "outputs": [],
   "source": []
  }
 ],
 "metadata": {
  "kernelspec": {
   "display_name": "Python [conda env:base] *",
   "language": "python",
   "name": "conda-base-py"
  },
  "language_info": {
   "codemirror_mode": {
    "name": "ipython",
    "version": 3
   },
   "file_extension": ".py",
   "mimetype": "text/x-python",
   "name": "python",
   "nbconvert_exporter": "python",
   "pygments_lexer": "ipython3",
   "version": "3.12.2"
  }
 },
 "nbformat": 4,
 "nbformat_minor": 5
}
